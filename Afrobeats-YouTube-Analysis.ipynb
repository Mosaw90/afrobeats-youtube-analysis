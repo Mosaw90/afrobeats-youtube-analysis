{
 "cells": [
  {
   "cell_type": "markdown",
   "id": "74cde4af",
   "metadata": {},
   "source": [
    "# Afrobeats Exploratory Data Analysis using Python - A Case Study\n",
    "\n",
    "\n",
    "### Introduction\n",
    "\n",
    "**Afrobeats genre of music have taken over the world, with its unique style of music, beats, rhythm, lyrics etc. Our artists have sold our event centres, arenas, staduim with ease across the globe. Artists such as Wizkid, Davido, Burna boy, Rema, Tems, Asake are globally recognised.**\n",
    "\n",
    "**Music videos are short film clips where artists promote and showcase their talents, craft and artistic prowess to the world. Most of these artists use video platforms such as youtube to promote their music for the world to see.**\n",
    "\n",
    "**In this project, we'll use the youtube platform to get data of some top afrobeats artists. We'll extract information such as, channel names, views, number of videos etc, and analyse them. In no particular order, they are:**\n",
    "\n",
    "- **Wizkid**\n",
    "- **Davido**\n",
    "- **Burna Boy**\n",
    "- **Tiwa Savage**\n",
    "- **Yemi Alade**\n",
    "- **Tems**\n",
    "- **Rema**\n",
    "- **Olamide**\n",
    "- **Asake**\n",
    "- **Ayra Starr**\n",
    "\n",
    "**Here are steps to extract data from youtube:**\n",
    "- **Create a project on [google developer console](https://console.cloud.google.com/cloud-resource-manager)**\n",
    "- **Enable YouTube API for [YouTube Data APi v3](https://console.cloud.google.com/apis/library)**\n",
    "- **Create an [API key](https://console.cloud.google.com/apis/credentials)**\n",
    "- **Google [YouTube Data API Documentation](https://developers.google.com/youtube/v3/docs)**\n",
    "\n",
    "**We'll also use the following python libraries for this project, they are:**\n",
    "- **googleapiclient**\n",
    "- **Pandas**\n",
    "- **Seaborn**\n",
    "- **matplotlib**\n",
    "- **json**"
   ]
  },
  {
   "cell_type": "code",
   "execution_count": 1,
   "id": "3a30c6fe",
   "metadata": {},
   "outputs": [],
   "source": [
    "from googleapiclient.discovery import build\n",
    "import pandas as pd\n",
    "import seaborn as sns"
   ]
  },
  {
   "cell_type": "markdown",
   "id": "8a55875d",
   "metadata": {},
   "source": [
    "**For satefy reasons, we'll save our `api_key` in file called `credentials.json` and access it using the keyword `api_key`.**"
   ]
  },
  {
   "cell_type": "code",
   "execution_count": 14,
   "id": "cbe665cd",
   "metadata": {},
   "outputs": [],
   "source": [
    "import json\n",
    "try:\n",
    "    with open('crendentials.json') as file:\n",
    "        credentials = json.load(file)\n",
    "except FileNotFound:\n",
    "    print(\"Error: credentials.json file not found.\")"
   ]
  },
  {
   "cell_type": "markdown",
   "id": "75061128",
   "metadata": {},
   "source": [
    "**We'll get some of our favourite afrobeats artise's youtube channel id's, you can learn [How to Find YouTube Channel ID for ANY YouTube Channel](https://www.youtube.com/watch?v=0oDy2sWPF38) here**.\n",
    "\n",
    "**Next, we'll build a YouTube service with the parameters provided by YouTube documentation.**"
   ]
  },
  {
   "cell_type": "code",
   "execution_count": 15,
   "id": "39fee3bc",
   "metadata": {},
   "outputs": [],
   "source": [
    "api_key = credentials['api_key']\n",
    "channel_ids = ['UCi7Cbr-F3zFQjwafFh5RWJA', # Wizkid\n",
    "               'UCkBV3nBa0iRdxEGc4DUS3xA', # Davido\n",
    "               'UCEzDdNqNkT-7rSfSGSr1hWg', # Burnaboy\n",
    "               'UCp87taDLDbvqPyoyhBZ7jWQ', # Olamide\n",
    "               'UCHGF6zfD2gwLuke95X3CKFQ', # Rema\n",
    "               'UCcBJoRL_QYkPlJaMhAUahvA', # Tiwa savage\n",
    "               'UCK7oVw_ftuBIwiipiBf7ogA', # Arya starr\n",
    "               'UCWD1TnmmbbynUSp8tkadR-g', # Yemi alade\n",
    "               'UCWfi5ELXGAe-DCA6cOP3aNw', # Tems\n",
    "               'UCU9R50wyBPKpdbcIScAyZig' # Asake\n",
    "              ]\n",
    "\n",
    "youtube = build('youtube', 'v3', developerKey=api_key)"
   ]
  },
  {
   "cell_type": "markdown",
   "id": "c538a24a",
   "metadata": {},
   "source": [
    "**We will create a function called `get_yt_channel_stats` to get the data we need.**"
   ]
  },
  {
   "cell_type": "code",
   "execution_count": 16,
   "id": "ec156397",
   "metadata": {},
   "outputs": [],
   "source": [
    "def get_yt_channel_stats(youtube, channel_ids):\n",
    "    all_data = []\n",
    "    \n",
    "    request = youtube.channels().list(\n",
    "                part='snippet,contentDetails,statistics',\n",
    "                id=','.join(channel_ids))\n",
    "    \n",
    "    response = request.execute()\n",
    "    \n",
    "    for i in range(len(response['items'])):\n",
    "        data = dict(Channel_name = response['items'][i]['snippet']['title'],\n",
    "                    Date_created = response['items'][i]['snippet']['publishedAt'],\n",
    "                    Subscribers = response['items'][i]['statistics']['subscriberCount'],\n",
    "                    Views = response['items'][i]['statistics']['viewCount'],\n",
    "                    Total_videos = response['items'][i]['statistics']['videoCount'])\n",
    "        all_data.append(data)\n",
    "        \n",
    "    return all_data"
   ]
  },
  {
   "cell_type": "code",
   "execution_count": 20,
   "id": "ecef6c40",
   "metadata": {},
   "outputs": [
    {
     "data": {
      "text/plain": [
       "[{'Channel_name': 'Olamide',\n",
       "  'Date_created': '2016-12-19T13:05:37Z',\n",
       "  'Subscribers': '1120000',\n",
       "  'Views': '434898799',\n",
       "  'Total_videos': '78'},\n",
       " {'Channel_name': 'Tems',\n",
       "  'Date_created': '2018-07-25T18:18:31Z',\n",
       "  'Subscribers': '732000',\n",
       "  'Views': '286079572',\n",
       "  'Total_videos': '34'},\n",
       " {'Channel_name': 'StarBoy TV',\n",
       "  'Date_created': '2014-09-20T10:31:05Z',\n",
       "  'Subscribers': '2910000',\n",
       "  'Views': '1833552384',\n",
       "  'Total_videos': '64'},\n",
       " {'Channel_name': 'ASAKE',\n",
       "  'Date_created': '2015-12-13T18:16:43Z',\n",
       "  'Subscribers': '956000',\n",
       "  'Views': '398985145',\n",
       "  'Total_videos': '64'},\n",
       " {'Channel_name': 'Rema',\n",
       "  'Date_created': '2019-04-07T10:36:23Z',\n",
       "  'Subscribers': '3820000',\n",
       "  'Views': '1395895162',\n",
       "  'Total_videos': '122'},\n",
       " {'Channel_name': 'Davido',\n",
       "  'Date_created': '2018-11-22T11:37:20Z',\n",
       "  'Subscribers': '3750000',\n",
       "  'Views': '1486914907',\n",
       "  'Total_videos': '66'},\n",
       " {'Channel_name': 'Burna Boy',\n",
       "  'Date_created': '2018-01-12T22:21:21Z',\n",
       "  'Subscribers': '4450000',\n",
       "  'Views': '2472192130',\n",
       "  'Total_videos': '250'},\n",
       " {'Channel_name': 'Yemi Alade',\n",
       "  'Date_created': '2012-11-15T07:41:35Z',\n",
       "  'Subscribers': '2290000',\n",
       "  'Views': '742939065',\n",
       "  'Total_videos': '247'},\n",
       " {'Channel_name': 'Tiwa Savage',\n",
       "  'Date_created': '2016-09-08T09:30:53Z',\n",
       "  'Subscribers': '1350000',\n",
       "  'Views': '489974586',\n",
       "  'Total_videos': '98'},\n",
       " {'Channel_name': 'Ayra Starr',\n",
       "  'Date_created': '2021-01-14T19:20:40.406323Z',\n",
       "  'Subscribers': '1500000',\n",
       "  'Views': '451726660',\n",
       "  'Total_videos': '33'}]"
      ]
     },
     "execution_count": 20,
     "metadata": {},
     "output_type": "execute_result"
    }
   ],
   "source": [
    "youtube_channel_statistics = get_yt_channel_stats(youtube, channel_ids)\n",
    "youtube_channel_statistics"
   ]
  },
  {
   "cell_type": "markdown",
   "id": "8b152aec",
   "metadata": {},
   "source": [
    "**We'll load our data into pandas data frame.**"
   ]
  },
  {
   "cell_type": "code",
   "execution_count": 21,
   "id": "29475639",
   "metadata": {},
   "outputs": [],
   "source": [
    "afrobeats_data = pd.DataFrame(youtube_channel_statistics)"
   ]
  },
  {
   "cell_type": "code",
   "execution_count": 22,
   "id": "5cde9bc5",
   "metadata": {},
   "outputs": [
    {
     "data": {
      "text/html": [
       "<div>\n",
       "<style scoped>\n",
       "    .dataframe tbody tr th:only-of-type {\n",
       "        vertical-align: middle;\n",
       "    }\n",
       "\n",
       "    .dataframe tbody tr th {\n",
       "        vertical-align: top;\n",
       "    }\n",
       "\n",
       "    .dataframe thead th {\n",
       "        text-align: right;\n",
       "    }\n",
       "</style>\n",
       "<table border=\"1\" class=\"dataframe\">\n",
       "  <thead>\n",
       "    <tr style=\"text-align: right;\">\n",
       "      <th></th>\n",
       "      <th>Channel_name</th>\n",
       "      <th>Date_created</th>\n",
       "      <th>Subscribers</th>\n",
       "      <th>Views</th>\n",
       "      <th>Total_videos</th>\n",
       "    </tr>\n",
       "  </thead>\n",
       "  <tbody>\n",
       "    <tr>\n",
       "      <th>0</th>\n",
       "      <td>Olamide</td>\n",
       "      <td>2016-12-19T13:05:37Z</td>\n",
       "      <td>1120000</td>\n",
       "      <td>434898799</td>\n",
       "      <td>78</td>\n",
       "    </tr>\n",
       "    <tr>\n",
       "      <th>1</th>\n",
       "      <td>Tems</td>\n",
       "      <td>2018-07-25T18:18:31Z</td>\n",
       "      <td>732000</td>\n",
       "      <td>286079572</td>\n",
       "      <td>34</td>\n",
       "    </tr>\n",
       "    <tr>\n",
       "      <th>2</th>\n",
       "      <td>StarBoy TV</td>\n",
       "      <td>2014-09-20T10:31:05Z</td>\n",
       "      <td>2910000</td>\n",
       "      <td>1833552384</td>\n",
       "      <td>64</td>\n",
       "    </tr>\n",
       "    <tr>\n",
       "      <th>3</th>\n",
       "      <td>ASAKE</td>\n",
       "      <td>2015-12-13T18:16:43Z</td>\n",
       "      <td>956000</td>\n",
       "      <td>398985145</td>\n",
       "      <td>64</td>\n",
       "    </tr>\n",
       "    <tr>\n",
       "      <th>4</th>\n",
       "      <td>Rema</td>\n",
       "      <td>2019-04-07T10:36:23Z</td>\n",
       "      <td>3820000</td>\n",
       "      <td>1395895162</td>\n",
       "      <td>122</td>\n",
       "    </tr>\n",
       "    <tr>\n",
       "      <th>5</th>\n",
       "      <td>Davido</td>\n",
       "      <td>2018-11-22T11:37:20Z</td>\n",
       "      <td>3750000</td>\n",
       "      <td>1486914907</td>\n",
       "      <td>66</td>\n",
       "    </tr>\n",
       "    <tr>\n",
       "      <th>6</th>\n",
       "      <td>Burna Boy</td>\n",
       "      <td>2018-01-12T22:21:21Z</td>\n",
       "      <td>4450000</td>\n",
       "      <td>2472192130</td>\n",
       "      <td>250</td>\n",
       "    </tr>\n",
       "    <tr>\n",
       "      <th>7</th>\n",
       "      <td>Yemi Alade</td>\n",
       "      <td>2012-11-15T07:41:35Z</td>\n",
       "      <td>2290000</td>\n",
       "      <td>742939065</td>\n",
       "      <td>247</td>\n",
       "    </tr>\n",
       "    <tr>\n",
       "      <th>8</th>\n",
       "      <td>Tiwa Savage</td>\n",
       "      <td>2016-09-08T09:30:53Z</td>\n",
       "      <td>1350000</td>\n",
       "      <td>489974586</td>\n",
       "      <td>98</td>\n",
       "    </tr>\n",
       "    <tr>\n",
       "      <th>9</th>\n",
       "      <td>Ayra Starr</td>\n",
       "      <td>2021-01-14T19:20:40.406323Z</td>\n",
       "      <td>1500000</td>\n",
       "      <td>451726660</td>\n",
       "      <td>33</td>\n",
       "    </tr>\n",
       "  </tbody>\n",
       "</table>\n",
       "</div>"
      ],
      "text/plain": [
       "  Channel_name                 Date_created Subscribers       Views  \\\n",
       "0      Olamide         2016-12-19T13:05:37Z     1120000   434898799   \n",
       "1         Tems         2018-07-25T18:18:31Z      732000   286079572   \n",
       "2   StarBoy TV         2014-09-20T10:31:05Z     2910000  1833552384   \n",
       "3        ASAKE         2015-12-13T18:16:43Z      956000   398985145   \n",
       "4         Rema         2019-04-07T10:36:23Z     3820000  1395895162   \n",
       "5       Davido         2018-11-22T11:37:20Z     3750000  1486914907   \n",
       "6    Burna Boy         2018-01-12T22:21:21Z     4450000  2472192130   \n",
       "7   Yemi Alade         2012-11-15T07:41:35Z     2290000   742939065   \n",
       "8  Tiwa Savage         2016-09-08T09:30:53Z     1350000   489974586   \n",
       "9   Ayra Starr  2021-01-14T19:20:40.406323Z     1500000   451726660   \n",
       "\n",
       "  Total_videos  \n",
       "0           78  \n",
       "1           34  \n",
       "2           64  \n",
       "3           64  \n",
       "4          122  \n",
       "5           66  \n",
       "6          250  \n",
       "7          247  \n",
       "8           98  \n",
       "9           33  "
      ]
     },
     "execution_count": 22,
     "metadata": {},
     "output_type": "execute_result"
    }
   ],
   "source": [
    "afrobeats_data"
   ]
  },
  {
   "cell_type": "markdown",
   "id": "9e4b0046",
   "metadata": {},
   "source": [
    "## Data Preparation and Cleaning\n",
    "\n",
    "**Let's view some basic information about the `afrobeats` data frame. By doing, we'll identify where to clean and therefore prepare our data for analysis and visualization.**"
   ]
  },
  {
   "cell_type": "code",
   "execution_count": 23,
   "id": "96ccc9a7",
   "metadata": {},
   "outputs": [
    {
     "data": {
      "text/plain": [
       "(10, 5)"
      ]
     },
     "execution_count": 23,
     "metadata": {},
     "output_type": "execute_result"
    }
   ],
   "source": [
    "afrobeats_data.shape"
   ]
  },
  {
   "cell_type": "markdown",
   "id": "329e5034",
   "metadata": {},
   "source": [
    "**The data frame contains ten rows and five columns.**"
   ]
  },
  {
   "cell_type": "code",
   "execution_count": 28,
   "id": "e5dedab9",
   "metadata": {},
   "outputs": [
    {
     "name": "stdout",
     "output_type": "stream",
     "text": [
      "<class 'pandas.core.frame.DataFrame'>\n",
      "RangeIndex: 10 entries, 0 to 9\n",
      "Data columns (total 5 columns):\n",
      " #   Column        Non-Null Count  Dtype \n",
      "---  ------        --------------  ----- \n",
      " 0   Channel_name  10 non-null     object\n",
      " 1   Date_created  10 non-null     object\n",
      " 2   Subscribers   10 non-null     object\n",
      " 3   Views         10 non-null     object\n",
      " 4   Total_videos  10 non-null     object\n",
      "dtypes: object(5)\n",
      "memory usage: 528.0+ bytes\n"
     ]
    }
   ],
   "source": [
    "afrobeats_data.info()"
   ]
  },
  {
   "cell_type": "markdown",
   "id": "cfed96ae",
   "metadata": {},
   "source": [
    "**The data type of all the columns is `object` which is not totally true because some of the columns ought to be numeric columns such as `Subscribers`, `Views` and `Total_videos`.**\n",
    "\n",
    "**Also, the `Date_created` column should be in a humanly readable form.**"
   ]
  },
  {
   "cell_type": "code",
   "execution_count": 29,
   "id": "17863547",
   "metadata": {},
   "outputs": [],
   "source": [
    "afrobeats_data['Date_created'] = pd.to_datetime(afrobeats_data['Date_created']).dt.date\n",
    "afrobeats_data['Subscribers'] = pd.to_numeric(afrobeats_data['Subscribers'])\n",
    "afrobeats_data['Views'] = pd.to_numeric(afrobeats_data['Views'])\n",
    "afrobeats_data['Total_videos'] = pd.to_numeric(afrobeats_data['Total_videos'])"
   ]
  },
  {
   "cell_type": "markdown",
   "id": "c4e359f1",
   "metadata": {},
   "source": [
    "**Let's inspect the data frame to see if the changes where effect properly.**"
   ]
  },
  {
   "cell_type": "code",
   "execution_count": 30,
   "id": "c1bec6e0",
   "metadata": {},
   "outputs": [
    {
     "name": "stdout",
     "output_type": "stream",
     "text": [
      "<class 'pandas.core.frame.DataFrame'>\n",
      "RangeIndex: 10 entries, 0 to 9\n",
      "Data columns (total 5 columns):\n",
      " #   Column        Non-Null Count  Dtype \n",
      "---  ------        --------------  ----- \n",
      " 0   Channel_name  10 non-null     object\n",
      " 1   Date_created  10 non-null     object\n",
      " 2   Subscribers   10 non-null     int64 \n",
      " 3   Views         10 non-null     int64 \n",
      " 4   Total_videos  10 non-null     int64 \n",
      "dtypes: int64(3), object(2)\n",
      "memory usage: 528.0+ bytes\n"
     ]
    }
   ],
   "source": [
    "afrobeats_data.info()"
   ]
  },
  {
   "cell_type": "code",
   "execution_count": 31,
   "id": "dbfc18df",
   "metadata": {},
   "outputs": [
    {
     "data": {
      "text/html": [
       "<div>\n",
       "<style scoped>\n",
       "    .dataframe tbody tr th:only-of-type {\n",
       "        vertical-align: middle;\n",
       "    }\n",
       "\n",
       "    .dataframe tbody tr th {\n",
       "        vertical-align: top;\n",
       "    }\n",
       "\n",
       "    .dataframe thead th {\n",
       "        text-align: right;\n",
       "    }\n",
       "</style>\n",
       "<table border=\"1\" class=\"dataframe\">\n",
       "  <thead>\n",
       "    <tr style=\"text-align: right;\">\n",
       "      <th></th>\n",
       "      <th>Channel_name</th>\n",
       "      <th>Date_created</th>\n",
       "      <th>Subscribers</th>\n",
       "      <th>Views</th>\n",
       "      <th>Total_videos</th>\n",
       "    </tr>\n",
       "  </thead>\n",
       "  <tbody>\n",
       "    <tr>\n",
       "      <th>0</th>\n",
       "      <td>Olamide</td>\n",
       "      <td>2016-12-19</td>\n",
       "      <td>1120000</td>\n",
       "      <td>434898799</td>\n",
       "      <td>78</td>\n",
       "    </tr>\n",
       "    <tr>\n",
       "      <th>1</th>\n",
       "      <td>Tems</td>\n",
       "      <td>2018-07-25</td>\n",
       "      <td>732000</td>\n",
       "      <td>286079572</td>\n",
       "      <td>34</td>\n",
       "    </tr>\n",
       "    <tr>\n",
       "      <th>2</th>\n",
       "      <td>StarBoy TV</td>\n",
       "      <td>2014-09-20</td>\n",
       "      <td>2910000</td>\n",
       "      <td>1833552384</td>\n",
       "      <td>64</td>\n",
       "    </tr>\n",
       "    <tr>\n",
       "      <th>3</th>\n",
       "      <td>ASAKE</td>\n",
       "      <td>2015-12-13</td>\n",
       "      <td>956000</td>\n",
       "      <td>398985145</td>\n",
       "      <td>64</td>\n",
       "    </tr>\n",
       "    <tr>\n",
       "      <th>4</th>\n",
       "      <td>Rema</td>\n",
       "      <td>2019-04-07</td>\n",
       "      <td>3820000</td>\n",
       "      <td>1395895162</td>\n",
       "      <td>122</td>\n",
       "    </tr>\n",
       "    <tr>\n",
       "      <th>5</th>\n",
       "      <td>Davido</td>\n",
       "      <td>2018-11-22</td>\n",
       "      <td>3750000</td>\n",
       "      <td>1486914907</td>\n",
       "      <td>66</td>\n",
       "    </tr>\n",
       "    <tr>\n",
       "      <th>6</th>\n",
       "      <td>Burna Boy</td>\n",
       "      <td>2018-01-12</td>\n",
       "      <td>4450000</td>\n",
       "      <td>2472192130</td>\n",
       "      <td>250</td>\n",
       "    </tr>\n",
       "    <tr>\n",
       "      <th>7</th>\n",
       "      <td>Yemi Alade</td>\n",
       "      <td>2012-11-15</td>\n",
       "      <td>2290000</td>\n",
       "      <td>742939065</td>\n",
       "      <td>247</td>\n",
       "    </tr>\n",
       "    <tr>\n",
       "      <th>8</th>\n",
       "      <td>Tiwa Savage</td>\n",
       "      <td>2016-09-08</td>\n",
       "      <td>1350000</td>\n",
       "      <td>489974586</td>\n",
       "      <td>98</td>\n",
       "    </tr>\n",
       "    <tr>\n",
       "      <th>9</th>\n",
       "      <td>Ayra Starr</td>\n",
       "      <td>2021-01-14</td>\n",
       "      <td>1500000</td>\n",
       "      <td>451726660</td>\n",
       "      <td>33</td>\n",
       "    </tr>\n",
       "  </tbody>\n",
       "</table>\n",
       "</div>"
      ],
      "text/plain": [
       "  Channel_name Date_created  Subscribers       Views  Total_videos\n",
       "0      Olamide   2016-12-19      1120000   434898799            78\n",
       "1         Tems   2018-07-25       732000   286079572            34\n",
       "2   StarBoy TV   2014-09-20      2910000  1833552384            64\n",
       "3        ASAKE   2015-12-13       956000   398985145            64\n",
       "4         Rema   2019-04-07      3820000  1395895162           122\n",
       "5       Davido   2018-11-22      3750000  1486914907            66\n",
       "6    Burna Boy   2018-01-12      4450000  2472192130           250\n",
       "7   Yemi Alade   2012-11-15      2290000   742939065           247\n",
       "8  Tiwa Savage   2016-09-08      1350000   489974586            98\n",
       "9   Ayra Starr   2021-01-14      1500000   451726660            33"
      ]
     },
     "execution_count": 31,
     "metadata": {},
     "output_type": "execute_result"
    }
   ],
   "source": [
    "afrobeats_data"
   ]
  },
  {
   "cell_type": "markdown",
   "id": "dab8ba96",
   "metadata": {},
   "source": [
    "**We can see that the data frame have two `object` and three `int64` data types, the `Date_created` column is also now in a much better readable format but not yet in its proper data type. We should work it again.**"
   ]
  },
  {
   "cell_type": "code",
   "execution_count": 32,
   "id": "12d19409",
   "metadata": {},
   "outputs": [],
   "source": [
    "afrobeats_data['Date_created'] = pd.to_datetime(afrobeats_data['Date_created'])"
   ]
  },
  {
   "cell_type": "code",
   "execution_count": 33,
   "id": "cb052132",
   "metadata": {},
   "outputs": [
    {
     "name": "stdout",
     "output_type": "stream",
     "text": [
      "<class 'pandas.core.frame.DataFrame'>\n",
      "RangeIndex: 10 entries, 0 to 9\n",
      "Data columns (total 5 columns):\n",
      " #   Column        Non-Null Count  Dtype         \n",
      "---  ------        --------------  -----         \n",
      " 0   Channel_name  10 non-null     object        \n",
      " 1   Date_created  10 non-null     datetime64[ns]\n",
      " 2   Subscribers   10 non-null     int64         \n",
      " 3   Views         10 non-null     int64         \n",
      " 4   Total_videos  10 non-null     int64         \n",
      "dtypes: datetime64[ns](1), int64(3), object(1)\n",
      "memory usage: 528.0+ bytes\n"
     ]
    }
   ],
   "source": [
    "afrobeats_data.info()"
   ]
  },
  {
   "cell_type": "markdown",
   "id": "8fb8aada",
   "metadata": {},
   "source": [
    "**Now we have the `Date_created` column in the datetime64[ns] data type.**\n",
    "\n",
    "**The data is now cleaned and ready for analysis and visualization, we can optionally write the data to a file for future use.**"
   ]
  },
  {
   "cell_type": "code",
   "execution_count": 34,
   "id": "137f7676",
   "metadata": {},
   "outputs": [
    {
     "data": {
      "text/html": [
       "<div>\n",
       "<style scoped>\n",
       "    .dataframe tbody tr th:only-of-type {\n",
       "        vertical-align: middle;\n",
       "    }\n",
       "\n",
       "    .dataframe tbody tr th {\n",
       "        vertical-align: top;\n",
       "    }\n",
       "\n",
       "    .dataframe thead th {\n",
       "        text-align: right;\n",
       "    }\n",
       "</style>\n",
       "<table border=\"1\" class=\"dataframe\">\n",
       "  <thead>\n",
       "    <tr style=\"text-align: right;\">\n",
       "      <th></th>\n",
       "      <th>Channel_name</th>\n",
       "      <th>Date_created</th>\n",
       "      <th>Subscribers</th>\n",
       "      <th>Views</th>\n",
       "      <th>Total_videos</th>\n",
       "    </tr>\n",
       "  </thead>\n",
       "  <tbody>\n",
       "    <tr>\n",
       "      <th>0</th>\n",
       "      <td>Olamide</td>\n",
       "      <td>2016-12-19</td>\n",
       "      <td>1120000</td>\n",
       "      <td>434898799</td>\n",
       "      <td>78</td>\n",
       "    </tr>\n",
       "    <tr>\n",
       "      <th>1</th>\n",
       "      <td>Tems</td>\n",
       "      <td>2018-07-25</td>\n",
       "      <td>732000</td>\n",
       "      <td>286079572</td>\n",
       "      <td>34</td>\n",
       "    </tr>\n",
       "    <tr>\n",
       "      <th>2</th>\n",
       "      <td>StarBoy TV</td>\n",
       "      <td>2014-09-20</td>\n",
       "      <td>2910000</td>\n",
       "      <td>1833552384</td>\n",
       "      <td>64</td>\n",
       "    </tr>\n",
       "    <tr>\n",
       "      <th>3</th>\n",
       "      <td>ASAKE</td>\n",
       "      <td>2015-12-13</td>\n",
       "      <td>956000</td>\n",
       "      <td>398985145</td>\n",
       "      <td>64</td>\n",
       "    </tr>\n",
       "    <tr>\n",
       "      <th>4</th>\n",
       "      <td>Rema</td>\n",
       "      <td>2019-04-07</td>\n",
       "      <td>3820000</td>\n",
       "      <td>1395895162</td>\n",
       "      <td>122</td>\n",
       "    </tr>\n",
       "    <tr>\n",
       "      <th>5</th>\n",
       "      <td>Davido</td>\n",
       "      <td>2018-11-22</td>\n",
       "      <td>3750000</td>\n",
       "      <td>1486914907</td>\n",
       "      <td>66</td>\n",
       "    </tr>\n",
       "    <tr>\n",
       "      <th>6</th>\n",
       "      <td>Burna Boy</td>\n",
       "      <td>2018-01-12</td>\n",
       "      <td>4450000</td>\n",
       "      <td>2472192130</td>\n",
       "      <td>250</td>\n",
       "    </tr>\n",
       "    <tr>\n",
       "      <th>7</th>\n",
       "      <td>Yemi Alade</td>\n",
       "      <td>2012-11-15</td>\n",
       "      <td>2290000</td>\n",
       "      <td>742939065</td>\n",
       "      <td>247</td>\n",
       "    </tr>\n",
       "    <tr>\n",
       "      <th>8</th>\n",
       "      <td>Tiwa Savage</td>\n",
       "      <td>2016-09-08</td>\n",
       "      <td>1350000</td>\n",
       "      <td>489974586</td>\n",
       "      <td>98</td>\n",
       "    </tr>\n",
       "    <tr>\n",
       "      <th>9</th>\n",
       "      <td>Ayra Starr</td>\n",
       "      <td>2021-01-14</td>\n",
       "      <td>1500000</td>\n",
       "      <td>451726660</td>\n",
       "      <td>33</td>\n",
       "    </tr>\n",
       "  </tbody>\n",
       "</table>\n",
       "</div>"
      ],
      "text/plain": [
       "  Channel_name Date_created  Subscribers       Views  Total_videos\n",
       "0      Olamide   2016-12-19      1120000   434898799            78\n",
       "1         Tems   2018-07-25       732000   286079572            34\n",
       "2   StarBoy TV   2014-09-20      2910000  1833552384            64\n",
       "3        ASAKE   2015-12-13       956000   398985145            64\n",
       "4         Rema   2019-04-07      3820000  1395895162           122\n",
       "5       Davido   2018-11-22      3750000  1486914907            66\n",
       "6    Burna Boy   2018-01-12      4450000  2472192130           250\n",
       "7   Yemi Alade   2012-11-15      2290000   742939065           247\n",
       "8  Tiwa Savage   2016-09-08      1350000   489974586            98\n",
       "9   Ayra Starr   2021-01-14      1500000   451726660            33"
      ]
     },
     "execution_count": 34,
     "metadata": {},
     "output_type": "execute_result"
    }
   ],
   "source": [
    "afrobeats_data"
   ]
  },
  {
   "cell_type": "code",
   "execution_count": 35,
   "id": "74e7e0b7",
   "metadata": {},
   "outputs": [],
   "source": [
    "afrobeats_data.to_csv('Afrobeats_Artists_YouTube.csv', index=None)"
   ]
  },
  {
   "cell_type": "markdown",
   "id": "778c25c7",
   "metadata": {},
   "source": [
    "## Exploratory Analysis and Visualization\n",
    "\n",
    "**We'll perform exploratory analysis by exploring the columns in the data frame to uderstand the data before we ask and answer questions.**\n",
    "\n",
    "**Let's import `matplotlib.pyplot` and set our `seaborn` so as to produce great visualizations.**"
   ]
  },
  {
   "cell_type": "code",
   "execution_count": 2,
   "id": "c4a527a7",
   "metadata": {},
   "outputs": [],
   "source": [
    "import matplotlib\n",
    "import matplotlib.pyplot as plt\n",
    "%matplotlib inline\n",
    "\n",
    "sns.set_style('darkgrid')\n",
    "matplotlib.rcParams['font.size'] = 14\n",
    "matplotlib.rcParams['figure.figsize'] = (9, 5)\n",
    "matplotlib.rcParams['figure.facecolor'] = '#00000000'"
   ]
  },
  {
   "cell_type": "markdown",
   "id": "2efbb502",
   "metadata": {},
   "source": [
    "### Subscribers\n",
    "\n",
    "**Let's look at the `Subscribers` to know the afrobeats artist with the highest number of subscribers.**"
   ]
  },
  {
   "cell_type": "code",
   "execution_count": 37,
   "id": "94b871bf",
   "metadata": {},
   "outputs": [
    {
     "data": {
      "text/html": [
       "<div>\n",
       "<style scoped>\n",
       "    .dataframe tbody tr th:only-of-type {\n",
       "        vertical-align: middle;\n",
       "    }\n",
       "\n",
       "    .dataframe tbody tr th {\n",
       "        vertical-align: top;\n",
       "    }\n",
       "\n",
       "    .dataframe thead th {\n",
       "        text-align: right;\n",
       "    }\n",
       "</style>\n",
       "<table border=\"1\" class=\"dataframe\">\n",
       "  <thead>\n",
       "    <tr style=\"text-align: right;\">\n",
       "      <th></th>\n",
       "      <th>Channel_name</th>\n",
       "      <th>Subscribers</th>\n",
       "    </tr>\n",
       "  </thead>\n",
       "  <tbody>\n",
       "    <tr>\n",
       "      <th>6</th>\n",
       "      <td>Burna Boy</td>\n",
       "      <td>4450000</td>\n",
       "    </tr>\n",
       "    <tr>\n",
       "      <th>4</th>\n",
       "      <td>Rema</td>\n",
       "      <td>3820000</td>\n",
       "    </tr>\n",
       "    <tr>\n",
       "      <th>5</th>\n",
       "      <td>Davido</td>\n",
       "      <td>3750000</td>\n",
       "    </tr>\n",
       "    <tr>\n",
       "      <th>2</th>\n",
       "      <td>StarBoy TV</td>\n",
       "      <td>2910000</td>\n",
       "    </tr>\n",
       "    <tr>\n",
       "      <th>7</th>\n",
       "      <td>Yemi Alade</td>\n",
       "      <td>2290000</td>\n",
       "    </tr>\n",
       "    <tr>\n",
       "      <th>9</th>\n",
       "      <td>Ayra Starr</td>\n",
       "      <td>1500000</td>\n",
       "    </tr>\n",
       "    <tr>\n",
       "      <th>8</th>\n",
       "      <td>Tiwa Savage</td>\n",
       "      <td>1350000</td>\n",
       "    </tr>\n",
       "    <tr>\n",
       "      <th>0</th>\n",
       "      <td>Olamide</td>\n",
       "      <td>1120000</td>\n",
       "    </tr>\n",
       "    <tr>\n",
       "      <th>3</th>\n",
       "      <td>ASAKE</td>\n",
       "      <td>956000</td>\n",
       "    </tr>\n",
       "    <tr>\n",
       "      <th>1</th>\n",
       "      <td>Tems</td>\n",
       "      <td>732000</td>\n",
       "    </tr>\n",
       "  </tbody>\n",
       "</table>\n",
       "</div>"
      ],
      "text/plain": [
       "  Channel_name  Subscribers\n",
       "6    Burna Boy      4450000\n",
       "4         Rema      3820000\n",
       "5       Davido      3750000\n",
       "2   StarBoy TV      2910000\n",
       "7   Yemi Alade      2290000\n",
       "9   Ayra Starr      1500000\n",
       "8  Tiwa Savage      1350000\n",
       "0      Olamide      1120000\n",
       "3        ASAKE       956000\n",
       "1         Tems       732000"
      ]
     },
     "execution_count": 37,
     "metadata": {},
     "output_type": "execute_result"
    }
   ],
   "source": [
    "subscriber_df = afrobeats_data[['Channel_name', 'Subscribers']].sort_values(by='Subscribers', ascending=False)\n",
    "subscriber_df"
   ]
  },
  {
   "cell_type": "code",
   "execution_count": 38,
   "id": "9370768a",
   "metadata": {},
   "outputs": [
    {
     "data": {
      "image/png": "[encoded data removed]",
      "text/plain": [
       "<Figure size 900x500 with 1 Axes>"
      ]
     },
     "metadata": {
      "needs_background": "light"
     },
     "output_type": "display_data"
    }
   ],
   "source": [
    "plt.title('YouTube Subscribers')\n",
    "sns.barplot(x='Subscribers', y='Channel_name', data=subscriber_df)\n",
    "plt.xlabel('Count')\n",
    "plt.ylabel('Artists');"
   ]
  },
  {
   "cell_type": "markdown",
   "id": "fc58ea66",
   "metadata": {},
   "source": [
    "**Burna Boy is the afrobeats artist with the highest youtube subscribers with over 4.4 million subsribers. He is followed by Rema with over 3.8 millions subscribers. Davido comes in third with over 3.7 million subscribers.**"
   ]
  },
  {
   "cell_type": "markdown",
   "id": "2c12d2a5",
   "metadata": {},
   "source": [
    "### Views\n",
    "\n",
    "**Let's explore the `Views` column and get some insights about it.**"
   ]
  },
  {
   "cell_type": "code",
   "execution_count": 39,
   "id": "3ef3a5be",
   "metadata": {},
   "outputs": [
    {
     "data": {
      "text/html": [
       "<div>\n",
       "<style scoped>\n",
       "    .dataframe tbody tr th:only-of-type {\n",
       "        vertical-align: middle;\n",
       "    }\n",
       "\n",
       "    .dataframe tbody tr th {\n",
       "        vertical-align: top;\n",
       "    }\n",
       "\n",
       "    .dataframe thead th {\n",
       "        text-align: right;\n",
       "    }\n",
       "</style>\n",
       "<table border=\"1\" class=\"dataframe\">\n",
       "  <thead>\n",
       "    <tr style=\"text-align: right;\">\n",
       "      <th></th>\n",
       "      <th>Channel_name</th>\n",
       "      <th>Views</th>\n",
       "    </tr>\n",
       "  </thead>\n",
       "  <tbody>\n",
       "    <tr>\n",
       "      <th>6</th>\n",
       "      <td>Burna Boy</td>\n",
       "      <td>2472192130</td>\n",
       "    </tr>\n",
       "    <tr>\n",
       "      <th>2</th>\n",
       "      <td>StarBoy TV</td>\n",
       "      <td>1833552384</td>\n",
       "    </tr>\n",
       "    <tr>\n",
       "      <th>5</th>\n",
       "      <td>Davido</td>\n",
       "      <td>1486914907</td>\n",
       "    </tr>\n",
       "    <tr>\n",
       "      <th>4</th>\n",
       "      <td>Rema</td>\n",
       "      <td>1395895162</td>\n",
       "    </tr>\n",
       "    <tr>\n",
       "      <th>7</th>\n",
       "      <td>Yemi Alade</td>\n",
       "      <td>742939065</td>\n",
       "    </tr>\n",
       "    <tr>\n",
       "      <th>8</th>\n",
       "      <td>Tiwa Savage</td>\n",
       "      <td>489974586</td>\n",
       "    </tr>\n",
       "    <tr>\n",
       "      <th>9</th>\n",
       "      <td>Ayra Starr</td>\n",
       "      <td>451726660</td>\n",
       "    </tr>\n",
       "    <tr>\n",
       "      <th>0</th>\n",
       "      <td>Olamide</td>\n",
       "      <td>434898799</td>\n",
       "    </tr>\n",
       "    <tr>\n",
       "      <th>3</th>\n",
       "      <td>ASAKE</td>\n",
       "      <td>398985145</td>\n",
       "    </tr>\n",
       "    <tr>\n",
       "      <th>1</th>\n",
       "      <td>Tems</td>\n",
       "      <td>286079572</td>\n",
       "    </tr>\n",
       "  </tbody>\n",
       "</table>\n",
       "</div>"
      ],
      "text/plain": [
       "  Channel_name       Views\n",
       "6    Burna Boy  2472192130\n",
       "2   StarBoy TV  1833552384\n",
       "5       Davido  1486914907\n",
       "4         Rema  1395895162\n",
       "7   Yemi Alade   742939065\n",
       "8  Tiwa Savage   489974586\n",
       "9   Ayra Starr   451726660\n",
       "0      Olamide   434898799\n",
       "3        ASAKE   398985145\n",
       "1         Tems   286079572"
      ]
     },
     "execution_count": 39,
     "metadata": {},
     "output_type": "execute_result"
    }
   ],
   "source": [
    "views_df = afrobeats_data[['Channel_name', 'Views']].sort_values(by='Views', ascending=False)\n",
    "views_df"
   ]
  },
  {
   "cell_type": "code",
   "execution_count": 40,
   "id": "1c519755",
   "metadata": {},
   "outputs": [
    {
     "data": {
      "image/png": "[encoded data removed]",
      "text/plain": [
       "<Figure size 900x500 with 1 Axes>"
      ]
     },
     "metadata": {
      "needs_background": "light"
     },
     "output_type": "display_data"
    }
   ],
   "source": [
    "plt.title('YouTube Views')\n",
    "sns.barplot(x='Views', y='Channel_name', data=views_df)\n",
    "plt.xlabel('Count')\n",
    "plt.ylabel('Artists');"
   ]
  },
  {
   "cell_type": "markdown",
   "id": "52d1a7a3",
   "metadata": {},
   "source": [
    "**Burna Boy is again the leading artist with over 2.4 billion youtube views. Wizkid (StarBoy Tv) is second with about 1.8 billion views, Davido is coming in third with 1.4 billion youtube views while Rema is in fourth with over 1.3 views on youtube.**"
   ]
  },
  {
   "cell_type": "markdown",
   "id": "6d12453a",
   "metadata": {},
   "source": [
    "### Videos\n",
    "\n",
    "**We'll explore the `Videos` column to understand our data better.**"
   ]
  },
  {
   "cell_type": "code",
   "execution_count": 41,
   "id": "47497536",
   "metadata": {},
   "outputs": [
    {
     "data": {
      "text/html": [
       "<div>\n",
       "<style scoped>\n",
       "    .dataframe tbody tr th:only-of-type {\n",
       "        vertical-align: middle;\n",
       "    }\n",
       "\n",
       "    .dataframe tbody tr th {\n",
       "        vertical-align: top;\n",
       "    }\n",
       "\n",
       "    .dataframe thead th {\n",
       "        text-align: right;\n",
       "    }\n",
       "</style>\n",
       "<table border=\"1\" class=\"dataframe\">\n",
       "  <thead>\n",
       "    <tr style=\"text-align: right;\">\n",
       "      <th></th>\n",
       "      <th>Channel_name</th>\n",
       "      <th>Total_videos</th>\n",
       "    </tr>\n",
       "  </thead>\n",
       "  <tbody>\n",
       "    <tr>\n",
       "      <th>6</th>\n",
       "      <td>Burna Boy</td>\n",
       "      <td>250</td>\n",
       "    </tr>\n",
       "    <tr>\n",
       "      <th>7</th>\n",
       "      <td>Yemi Alade</td>\n",
       "      <td>247</td>\n",
       "    </tr>\n",
       "    <tr>\n",
       "      <th>4</th>\n",
       "      <td>Rema</td>\n",
       "      <td>122</td>\n",
       "    </tr>\n",
       "    <tr>\n",
       "      <th>8</th>\n",
       "      <td>Tiwa Savage</td>\n",
       "      <td>98</td>\n",
       "    </tr>\n",
       "    <tr>\n",
       "      <th>0</th>\n",
       "      <td>Olamide</td>\n",
       "      <td>78</td>\n",
       "    </tr>\n",
       "    <tr>\n",
       "      <th>5</th>\n",
       "      <td>Davido</td>\n",
       "      <td>66</td>\n",
       "    </tr>\n",
       "    <tr>\n",
       "      <th>2</th>\n",
       "      <td>StarBoy TV</td>\n",
       "      <td>64</td>\n",
       "    </tr>\n",
       "    <tr>\n",
       "      <th>3</th>\n",
       "      <td>ASAKE</td>\n",
       "      <td>64</td>\n",
       "    </tr>\n",
       "    <tr>\n",
       "      <th>1</th>\n",
       "      <td>Tems</td>\n",
       "      <td>34</td>\n",
       "    </tr>\n",
       "    <tr>\n",
       "      <th>9</th>\n",
       "      <td>Ayra Starr</td>\n",
       "      <td>33</td>\n",
       "    </tr>\n",
       "  </tbody>\n",
       "</table>\n",
       "</div>"
      ],
      "text/plain": [
       "  Channel_name  Total_videos\n",
       "6    Burna Boy           250\n",
       "7   Yemi Alade           247\n",
       "4         Rema           122\n",
       "8  Tiwa Savage            98\n",
       "0      Olamide            78\n",
       "5       Davido            66\n",
       "2   StarBoy TV            64\n",
       "3        ASAKE            64\n",
       "1         Tems            34\n",
       "9   Ayra Starr            33"
      ]
     },
     "execution_count": 41,
     "metadata": {},
     "output_type": "execute_result"
    }
   ],
   "source": [
    "video_df = afrobeats_data[['Channel_name', 'Total_videos']].sort_values(by='Total_videos', ascending=False)\n",
    "video_df"
   ]
  },
  {
   "cell_type": "code",
   "execution_count": 42,
   "id": "1355c40b",
   "metadata": {},
   "outputs": [
    {
     "data": {
      "image/png": "[encoded data removed]",
      "text/plain": [
       "<Figure size 900x500 with 1 Axes>"
      ]
     },
     "metadata": {
      "needs_background": "light"
     },
     "output_type": "display_data"
    }
   ],
   "source": [
    "plt.title('YouTube Videos')\n",
    "sns.barplot(x='Total_videos', y='Channel_name', data=video_df)\n",
    "plt.xlabel('Count')\n",
    "plt.ylabel('Artists');"
   ]
  },
  {
   "cell_type": "markdown",
   "id": "98d5b8fc",
   "metadata": {},
   "source": [
    "**Burna Boy have the highest number of videos on youtube with 250 videos while Yemi Alade is closely second with 247 videos. Rema is in distant third with 120 videos.**"
   ]
  },
  {
   "cell_type": "markdown",
   "id": "9d9151ec",
   "metadata": {},
   "source": [
    "## Asking and Answering Questions\n",
    "\n",
    "**The exploration of columns have given us some insights about the `afrobeats` youtube dataset. Let's ask some specific questions and answer them using data frame operations and visualizations.**"
   ]
  },
  {
   "cell_type": "markdown",
   "id": "0dcaebab",
   "metadata": {},
   "source": [
    "#### Q: What is the gender distribution in the dataset?\n",
    "\n",
    "**To answer this question, we need to create a gender column in our `afrobeats` data frame before we can answer the question.**"
   ]
  },
  {
   "cell_type": "code",
   "execution_count": 6,
   "id": "30f776c1",
   "metadata": {},
   "outputs": [],
   "source": [
    "# Create a dictionary 'gender'.\n",
    "gender = {\n",
    "    'StarBoy TV': 'Male', 'Burna Boy': 'Male', 'Davido': 'Male', 'ASAKE': 'Male', 'Olamide': 'Male', 'Rema': 'Male', \n",
    "    'Yemi Alade': 'Female', 'Tiwa Savage': 'Female', 'Tems': 'Female', 'Ayra Starr': 'Female'\n",
    "}\n",
    "\n",
    "afrobeats_data['Gender'] = afrobeats_data.Channel_name.map(gender)"
   ]
  },
  {
   "cell_type": "code",
   "execution_count": 7,
   "id": "388468c9",
   "metadata": {},
   "outputs": [
    {
     "data": {
      "text/html": [
       "<div>\n",
       "<style scoped>\n",
       "    .dataframe tbody tr th:only-of-type {\n",
       "        vertical-align: middle;\n",
       "    }\n",
       "\n",
       "    .dataframe tbody tr th {\n",
       "        vertical-align: top;\n",
       "    }\n",
       "\n",
       "    .dataframe thead th {\n",
       "        text-align: right;\n",
       "    }\n",
       "</style>\n",
       "<table border=\"1\" class=\"dataframe\">\n",
       "  <thead>\n",
       "    <tr style=\"text-align: right;\">\n",
       "      <th></th>\n",
       "      <th>Channel_name</th>\n",
       "      <th>Date_created</th>\n",
       "      <th>Subscribers</th>\n",
       "      <th>Views</th>\n",
       "      <th>Total_videos</th>\n",
       "      <th>Gender</th>\n",
       "    </tr>\n",
       "  </thead>\n",
       "  <tbody>\n",
       "    <tr>\n",
       "      <th>0</th>\n",
       "      <td>Olamide</td>\n",
       "      <td>2016-12-19</td>\n",
       "      <td>1120000</td>\n",
       "      <td>434898799</td>\n",
       "      <td>78</td>\n",
       "      <td>Male</td>\n",
       "    </tr>\n",
       "    <tr>\n",
       "      <th>1</th>\n",
       "      <td>Tems</td>\n",
       "      <td>2018-07-25</td>\n",
       "      <td>732000</td>\n",
       "      <td>286079572</td>\n",
       "      <td>34</td>\n",
       "      <td>Female</td>\n",
       "    </tr>\n",
       "    <tr>\n",
       "      <th>2</th>\n",
       "      <td>StarBoy TV</td>\n",
       "      <td>2014-09-20</td>\n",
       "      <td>2910000</td>\n",
       "      <td>1833552384</td>\n",
       "      <td>64</td>\n",
       "      <td>Male</td>\n",
       "    </tr>\n",
       "    <tr>\n",
       "      <th>3</th>\n",
       "      <td>ASAKE</td>\n",
       "      <td>2015-12-13</td>\n",
       "      <td>956000</td>\n",
       "      <td>398985145</td>\n",
       "      <td>64</td>\n",
       "      <td>Male</td>\n",
       "    </tr>\n",
       "    <tr>\n",
       "      <th>4</th>\n",
       "      <td>Rema</td>\n",
       "      <td>2019-04-07</td>\n",
       "      <td>3820000</td>\n",
       "      <td>1395895162</td>\n",
       "      <td>122</td>\n",
       "      <td>Male</td>\n",
       "    </tr>\n",
       "    <tr>\n",
       "      <th>5</th>\n",
       "      <td>Davido</td>\n",
       "      <td>2018-11-22</td>\n",
       "      <td>3750000</td>\n",
       "      <td>1486914907</td>\n",
       "      <td>66</td>\n",
       "      <td>Male</td>\n",
       "    </tr>\n",
       "    <tr>\n",
       "      <th>6</th>\n",
       "      <td>Burna Boy</td>\n",
       "      <td>2018-01-12</td>\n",
       "      <td>4450000</td>\n",
       "      <td>2472192130</td>\n",
       "      <td>250</td>\n",
       "      <td>Male</td>\n",
       "    </tr>\n",
       "    <tr>\n",
       "      <th>7</th>\n",
       "      <td>Yemi Alade</td>\n",
       "      <td>2012-11-15</td>\n",
       "      <td>2290000</td>\n",
       "      <td>742939065</td>\n",
       "      <td>247</td>\n",
       "      <td>Female</td>\n",
       "    </tr>\n",
       "    <tr>\n",
       "      <th>8</th>\n",
       "      <td>Tiwa Savage</td>\n",
       "      <td>2016-09-08</td>\n",
       "      <td>1350000</td>\n",
       "      <td>489974586</td>\n",
       "      <td>98</td>\n",
       "      <td>Female</td>\n",
       "    </tr>\n",
       "    <tr>\n",
       "      <th>9</th>\n",
       "      <td>Ayra Starr</td>\n",
       "      <td>2021-01-14</td>\n",
       "      <td>1500000</td>\n",
       "      <td>451726660</td>\n",
       "      <td>33</td>\n",
       "      <td>Female</td>\n",
       "    </tr>\n",
       "  </tbody>\n",
       "</table>\n",
       "</div>"
      ],
      "text/plain": [
       "  Channel_name Date_created  Subscribers       Views  Total_videos  Gender\n",
       "0      Olamide   2016-12-19      1120000   434898799            78    Male\n",
       "1         Tems   2018-07-25       732000   286079572            34  Female\n",
       "2   StarBoy TV   2014-09-20      2910000  1833552384            64    Male\n",
       "3        ASAKE   2015-12-13       956000   398985145            64    Male\n",
       "4         Rema   2019-04-07      3820000  1395895162           122    Male\n",
       "5       Davido   2018-11-22      3750000  1486914907            66    Male\n",
       "6    Burna Boy   2018-01-12      4450000  2472192130           250    Male\n",
       "7   Yemi Alade   2012-11-15      2290000   742939065           247  Female\n",
       "8  Tiwa Savage   2016-09-08      1350000   489974586            98  Female\n",
       "9   Ayra Starr   2021-01-14      1500000   451726660            33  Female"
      ]
     },
     "execution_count": 7,
     "metadata": {},
     "output_type": "execute_result"
    }
   ],
   "source": [
    "afrobeats_data"
   ]
  },
  {
   "cell_type": "code",
   "execution_count": 8,
   "id": "7b09fd24",
   "metadata": {},
   "outputs": [
    {
     "data": {
      "text/plain": [
       "Male      6\n",
       "Female    4\n",
       "Name: Gender, dtype: int64"
      ]
     },
     "execution_count": 8,
     "metadata": {},
     "output_type": "execute_result"
    }
   ],
   "source": [
    "gender_counts = afrobeats_data.Gender.value_counts()\n",
    "gender_counts"
   ]
  },
  {
   "cell_type": "code",
   "execution_count": 9,
   "id": "70f4ea7b",
   "metadata": {},
   "outputs": [
    {
     "data": {
      "image/png": "[encoded data removed]",
      "text/plain": [
       "<Figure size 1200x600 with 1 Axes>"
      ]
     },
     "metadata": {},
     "output_type": "display_data"
    }
   ],
   "source": [
    "plt.figure(figsize=(12,6))\n",
    "plt.title('YouTube Gender Distribution')\n",
    "plt.pie(gender_counts, labels=gender_counts.index, autopct='%1.1f%%', startangle=90);"
   ]
  },
  {
   "cell_type": "markdown",
   "id": "ab9aba1a",
   "metadata": {},
   "source": [
    "**Male gender is higly represented with 60% while female representation is 40%. This gender representation is somewhat inbalance because the youtube channels were selected with bias.**\n",
    "\n",
    "### Which artist youtube channel is the oldest?\n",
    "\n",
    "**We can answer this question by sorting the data by `Date_created` column.**"
   ]
  },
  {
   "cell_type": "code",
   "execution_count": 10,
   "id": "1e57a68b",
   "metadata": {},
   "outputs": [],
   "source": [
    "afrobeats_data['Year_created'] = pd.DatetimeIndex(afrobeats_data.Date_created ).year"
   ]
  },
  {
   "cell_type": "code",
   "execution_count": 12,
   "id": "9e72c11d",
   "metadata": {},
   "outputs": [
    {
     "data": {
      "text/html": [
       "<div>\n",
       "<style scoped>\n",
       "    .dataframe tbody tr th:only-of-type {\n",
       "        vertical-align: middle;\n",
       "    }\n",
       "\n",
       "    .dataframe tbody tr th {\n",
       "        vertical-align: top;\n",
       "    }\n",
       "\n",
       "    .dataframe thead th {\n",
       "        text-align: right;\n",
       "    }\n",
       "</style>\n",
       "<table border=\"1\" class=\"dataframe\">\n",
       "  <thead>\n",
       "    <tr style=\"text-align: right;\">\n",
       "      <th></th>\n",
       "      <th>Channel_name</th>\n",
       "      <th>Year_created</th>\n",
       "    </tr>\n",
       "  </thead>\n",
       "  <tbody>\n",
       "    <tr>\n",
       "      <th>7</th>\n",
       "      <td>Yemi Alade</td>\n",
       "      <td>2012</td>\n",
       "    </tr>\n",
       "    <tr>\n",
       "      <th>2</th>\n",
       "      <td>StarBoy TV</td>\n",
       "      <td>2014</td>\n",
       "    </tr>\n",
       "    <tr>\n",
       "      <th>3</th>\n",
       "      <td>ASAKE</td>\n",
       "      <td>2015</td>\n",
       "    </tr>\n",
       "    <tr>\n",
       "      <th>0</th>\n",
       "      <td>Olamide</td>\n",
       "      <td>2016</td>\n",
       "    </tr>\n",
       "    <tr>\n",
       "      <th>8</th>\n",
       "      <td>Tiwa Savage</td>\n",
       "      <td>2016</td>\n",
       "    </tr>\n",
       "  </tbody>\n",
       "</table>\n",
       "</div>"
      ],
      "text/plain": [
       "  Channel_name  Year_created\n",
       "7   Yemi Alade          2012\n",
       "2   StarBoy TV          2014\n",
       "3        ASAKE          2015\n",
       "0      Olamide          2016\n",
       "8  Tiwa Savage          2016"
      ]
     },
     "execution_count": 12,
     "metadata": {},
     "output_type": "execute_result"
    }
   ],
   "source": [
    "oldest_df = afrobeats_data[['Channel_name', 'Year_created']].sort_values(by='Year_created').copy()\n",
    "oldest_df.head(5)"
   ]
  },
  {
   "cell_type": "markdown",
   "id": "e29d1477",
   "metadata": {},
   "source": [
    "**Yemi Alade is the artist with the oldest youtube channel which was created 2012.**\n",
    "\n",
    "### Which male artist have the highest number of subscribers?\n",
    "\n",
    "**We'll create a new data frame called `male_df` which will contain only male artists.**"
   ]
  },
  {
   "cell_type": "code",
   "execution_count": 13,
   "id": "7391b469",
   "metadata": {},
   "outputs": [
    {
     "data": {
      "text/html": [
       "<div>\n",
       "<style scoped>\n",
       "    .dataframe tbody tr th:only-of-type {\n",
       "        vertical-align: middle;\n",
       "    }\n",
       "\n",
       "    .dataframe tbody tr th {\n",
       "        vertical-align: top;\n",
       "    }\n",
       "\n",
       "    .dataframe thead th {\n",
       "        text-align: right;\n",
       "    }\n",
       "</style>\n",
       "<table border=\"1\" class=\"dataframe\">\n",
       "  <thead>\n",
       "    <tr style=\"text-align: right;\">\n",
       "      <th></th>\n",
       "      <th>Channel_name</th>\n",
       "      <th>Subscribers</th>\n",
       "    </tr>\n",
       "  </thead>\n",
       "  <tbody>\n",
       "    <tr>\n",
       "      <th>6</th>\n",
       "      <td>Burna Boy</td>\n",
       "      <td>4450000</td>\n",
       "    </tr>\n",
       "    <tr>\n",
       "      <th>4</th>\n",
       "      <td>Rema</td>\n",
       "      <td>3820000</td>\n",
       "    </tr>\n",
       "    <tr>\n",
       "      <th>5</th>\n",
       "      <td>Davido</td>\n",
       "      <td>3750000</td>\n",
       "    </tr>\n",
       "    <tr>\n",
       "      <th>2</th>\n",
       "      <td>StarBoy TV</td>\n",
       "      <td>2910000</td>\n",
       "    </tr>\n",
       "    <tr>\n",
       "      <th>0</th>\n",
       "      <td>Olamide</td>\n",
       "      <td>1120000</td>\n",
       "    </tr>\n",
       "    <tr>\n",
       "      <th>3</th>\n",
       "      <td>ASAKE</td>\n",
       "      <td>956000</td>\n",
       "    </tr>\n",
       "  </tbody>\n",
       "</table>\n",
       "</div>"
      ],
      "text/plain": [
       "  Channel_name  Subscribers\n",
       "6    Burna Boy      4450000\n",
       "4         Rema      3820000\n",
       "5       Davido      3750000\n",
       "2   StarBoy TV      2910000\n",
       "0      Olamide      1120000\n",
       "3        ASAKE       956000"
      ]
     },
     "execution_count": 13,
     "metadata": {},
     "output_type": "execute_result"
    }
   ],
   "source": [
    "male_df = afrobeats_data[afrobeats_data.Gender == 'Male'].copy()\n",
    "male_subscribers = male_df[['Channel_name', 'Subscribers']].sort_values(by='Subscribers', ascending=False)\n",
    "male_subscribers"
   ]
  },
  {
   "cell_type": "code",
   "execution_count": 14,
   "id": "0aad7170",
   "metadata": {},
   "outputs": [
    {
     "data": {
      "image/png": "[encoded data removed]",
      "text/plain": [
       "<Figure size 900x500 with 1 Axes>"
      ]
     },
     "metadata": {
      "needs_background": "light"
     },
     "output_type": "display_data"
    }
   ],
   "source": [
    "plt.title('Male YouTube Subscribers')\n",
    "sns.barplot(x='Subscribers', y='Channel_name', data=male_subscribers)\n",
    "plt.xlabel('Count')\n",
    "plt.ylabel('Artists');"
   ]
  },
  {
   "cell_type": "markdown",
   "id": "6c4397af",
   "metadata": {},
   "source": [
    "**Burna Boy have over 4.4 million youtube subscribers which makes him the male artist with highest youtube subscribers.**\n",
    "\n",
    "### Which female artist  have the highest number of views?\n",
    "\n",
    "**We'll also create a new data frame called `female_df` which will contain only female artists**"
   ]
  },
  {
   "cell_type": "code",
   "execution_count": 15,
   "id": "513ca9a2",
   "metadata": {},
   "outputs": [
    {
     "data": {
      "text/html": [
       "<div>\n",
       "<style scoped>\n",
       "    .dataframe tbody tr th:only-of-type {\n",
       "        vertical-align: middle;\n",
       "    }\n",
       "\n",
       "    .dataframe tbody tr th {\n",
       "        vertical-align: top;\n",
       "    }\n",
       "\n",
       "    .dataframe thead th {\n",
       "        text-align: right;\n",
       "    }\n",
       "</style>\n",
       "<table border=\"1\" class=\"dataframe\">\n",
       "  <thead>\n",
       "    <tr style=\"text-align: right;\">\n",
       "      <th></th>\n",
       "      <th>Channel_name</th>\n",
       "      <th>Views</th>\n",
       "    </tr>\n",
       "  </thead>\n",
       "  <tbody>\n",
       "    <tr>\n",
       "      <th>7</th>\n",
       "      <td>Yemi Alade</td>\n",
       "      <td>742939065</td>\n",
       "    </tr>\n",
       "    <tr>\n",
       "      <th>8</th>\n",
       "      <td>Tiwa Savage</td>\n",
       "      <td>489974586</td>\n",
       "    </tr>\n",
       "    <tr>\n",
       "      <th>9</th>\n",
       "      <td>Ayra Starr</td>\n",
       "      <td>451726660</td>\n",
       "    </tr>\n",
       "    <tr>\n",
       "      <th>1</th>\n",
       "      <td>Tems</td>\n",
       "      <td>286079572</td>\n",
       "    </tr>\n",
       "  </tbody>\n",
       "</table>\n",
       "</div>"
      ],
      "text/plain": [
       "  Channel_name      Views\n",
       "7   Yemi Alade  742939065\n",
       "8  Tiwa Savage  489974586\n",
       "9   Ayra Starr  451726660\n",
       "1         Tems  286079572"
      ]
     },
     "execution_count": 15,
     "metadata": {},
     "output_type": "execute_result"
    }
   ],
   "source": [
    "female_df = afrobeats_data[afrobeats_data.Gender == 'Female'].copy()\n",
    "female_views = female_df[['Channel_name', 'Views']].sort_values(by='Views', ascending=False)\n",
    "female_views"
   ]
  },
  {
   "cell_type": "code",
   "execution_count": 16,
   "id": "26e4b8fa",
   "metadata": {},
   "outputs": [
    {
     "data": {
      "image/png": "[encoded data removed]",
      "text/plain": [
       "<Figure size 900x500 with 1 Axes>"
      ]
     },
     "metadata": {
      "needs_background": "light"
     },
     "output_type": "display_data"
    }
   ],
   "source": [
    "plt.title('Female YouTube Views')\n",
    "sns.barplot(x='Views', y='Channel_name', data=female_views)\n",
    "plt.xlabel('Count')\n",
    "plt.ylabel('Artist');"
   ]
  },
  {
   "cell_type": "markdown",
   "id": "dd63be29",
   "metadata": {},
   "source": [
    "**Yemi Alade is the female artist with the highest number of youtube views which is about 700 million views.**\n",
    "\n",
    "## Inferences and Conclusions\n",
    "\n",
    "**Here are some of inferences from the analysis:**\n",
    "- **There is low representation of female in the dataset, this could be attributed to the selection bias when scrapping youtube for data. It could resolved by having equal number genders when getting the data.**\n",
    "- **Yemi Alade youtube channel was created in 2012 which makes it the oldest youtube channel in the dataset.**\n",
    "- **Burna Boy is the artist with the most subscribers, views and videos on youtube platform.**\n",
    "- **Yemi Alade is the female artists with the most views on youtube platform.**\n",
    "\n",
    "## References and Future Work\n",
    "\n",
    "**Here some resources to get and learn about the dataset and tools used in this nootbook:**\n",
    "- **Create a project on google developer console: https://console.cloud.google.com/cloud-resource-manager**\n",
    "- **Enable YouTube API for YouTube Data APi v3: https://console.cloud.google.com/apis/library**\n",
    "- **Create an API key: https://console.cloud.google.com/apis/credentials**\n",
    "- **Google YouTube Data API Documentation: https://developers.google.com/youtube/v3/docs**\n",
    "- **How to Find YouTube Channel ID for ANY YouTube Channel: https://www.youtube.com/watch?v=0oDy2sWPF38**\n",
    "- **Google api client library for python docs: https://github.com/googleapis/google-api-python-client/blob/main/docs/README.md**\n",
    "- **Pandas user guide: https://pandas.pydata.org/docs/user_guide/index.html**\n",
    "- **Matplotlib user guide: https://matplotlib.org/3.3.1/users/index.html**\n",
    "- **Seaborn user guide & tutorial: https://seaborn.pydata.org/tutorial.html**\n",
    "\n",
    "**Here are some ideas for future analysis:**\n",
    "- **Analyse the youtube videos of any artist and observe the videos with the highest likes, comments etc.**\n",
    "- **Repeat this analysis with a different genre of music.**"
   ]
  }
 ],
 "metadata": {
  "kernelspec": {
   "display_name": "Python 3 (ipykernel)",
   "language": "python",
   "name": "python3"
  },
  "language_info": {
   "codemirror_mode": {
    "name": "ipython",
    "version": 3
   },
   "file_extension": ".py",
   "mimetype": "text/x-python",
   "name": "python",
   "nbconvert_exporter": "python",
   "pygments_lexer": "ipython3",
   "version": "3.10.9"
  }
 },
 "nbformat": 4,
 "nbformat_minor": 5
}
